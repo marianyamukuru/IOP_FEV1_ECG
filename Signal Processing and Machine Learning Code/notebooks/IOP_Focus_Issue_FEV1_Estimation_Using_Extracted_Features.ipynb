{
  "cells": [
    {
      "cell_type": "markdown",
      "metadata": {
        "id": "PKzaE-LWWbnp"
      },
      "source": [
        "# Initialize Workspace"
      ]
    },
    {
      "cell_type": "code",
      "execution_count": 1,
      "metadata": {
        "colab": {
          "base_uri": "https://localhost:8080/"
        },
        "id": "mh_5PjtEP0ua",
        "outputId": "729cbcfc-7605-4352-94ad-144e70c1863d"
      },
      "outputs": [
        {
          "output_type": "stream",
          "name": "stdout",
          "text": [
            "Requirement already satisfied: neurokit2 in /usr/local/lib/python3.10/dist-packages (0.2.10)\n",
            "Requirement already satisfied: requests in /usr/local/lib/python3.10/dist-packages (from neurokit2) (2.32.3)\n",
            "Requirement already satisfied: numpy in /usr/local/lib/python3.10/dist-packages (from neurokit2) (1.26.4)\n",
            "Requirement already satisfied: pandas in /usr/local/lib/python3.10/dist-packages (from neurokit2) (2.2.2)\n",
            "Requirement already satisfied: scipy in /usr/local/lib/python3.10/dist-packages (from neurokit2) (1.13.1)\n",
            "Requirement already satisfied: scikit-learn>=1.0.0 in /usr/local/lib/python3.10/dist-packages (from neurokit2) (1.6.0)\n",
            "Requirement already satisfied: matplotlib in /usr/local/lib/python3.10/dist-packages (from neurokit2) (3.8.0)\n",
            "Requirement already satisfied: joblib>=1.2.0 in /usr/local/lib/python3.10/dist-packages (from scikit-learn>=1.0.0->neurokit2) (1.4.2)\n",
            "Requirement already satisfied: threadpoolctl>=3.1.0 in /usr/local/lib/python3.10/dist-packages (from scikit-learn>=1.0.0->neurokit2) (3.5.0)\n",
            "Requirement already satisfied: contourpy>=1.0.1 in /usr/local/lib/python3.10/dist-packages (from matplotlib->neurokit2) (1.3.1)\n",
            "Requirement already satisfied: cycler>=0.10 in /usr/local/lib/python3.10/dist-packages (from matplotlib->neurokit2) (0.12.1)\n",
            "Requirement already satisfied: fonttools>=4.22.0 in /usr/local/lib/python3.10/dist-packages (from matplotlib->neurokit2) (4.55.3)\n",
            "Requirement already satisfied: kiwisolver>=1.0.1 in /usr/local/lib/python3.10/dist-packages (from matplotlib->neurokit2) (1.4.7)\n",
            "Requirement already satisfied: packaging>=20.0 in /usr/local/lib/python3.10/dist-packages (from matplotlib->neurokit2) (24.2)\n",
            "Requirement already satisfied: pillow>=6.2.0 in /usr/local/lib/python3.10/dist-packages (from matplotlib->neurokit2) (11.0.0)\n",
            "Requirement already satisfied: pyparsing>=2.3.1 in /usr/local/lib/python3.10/dist-packages (from matplotlib->neurokit2) (3.2.0)\n",
            "Requirement already satisfied: python-dateutil>=2.7 in /usr/local/lib/python3.10/dist-packages (from matplotlib->neurokit2) (2.8.2)\n",
            "Requirement already satisfied: pytz>=2020.1 in /usr/local/lib/python3.10/dist-packages (from pandas->neurokit2) (2024.2)\n",
            "Requirement already satisfied: tzdata>=2022.7 in /usr/local/lib/python3.10/dist-packages (from pandas->neurokit2) (2024.2)\n",
            "Requirement already satisfied: charset-normalizer<4,>=2 in /usr/local/lib/python3.10/dist-packages (from requests->neurokit2) (3.4.0)\n",
            "Requirement already satisfied: idna<4,>=2.5 in /usr/local/lib/python3.10/dist-packages (from requests->neurokit2) (3.10)\n",
            "Requirement already satisfied: urllib3<3,>=1.21.1 in /usr/local/lib/python3.10/dist-packages (from requests->neurokit2) (2.2.3)\n",
            "Requirement already satisfied: certifi>=2017.4.17 in /usr/local/lib/python3.10/dist-packages (from requests->neurokit2) (2024.12.14)\n",
            "Requirement already satisfied: six>=1.5 in /usr/local/lib/python3.10/dist-packages (from python-dateutil>=2.7->matplotlib->neurokit2) (1.17.0)\n",
            "Requirement already satisfied: biosppy in /usr/local/lib/python3.10/dist-packages (2.2.2)\n",
            "Requirement already satisfied: bidict in /usr/local/lib/python3.10/dist-packages (from biosppy) (0.23.1)\n",
            "Requirement already satisfied: h5py in /usr/local/lib/python3.10/dist-packages (from biosppy) (3.12.1)\n",
            "Requirement already satisfied: matplotlib in /usr/local/lib/python3.10/dist-packages (from biosppy) (3.8.0)\n",
            "Requirement already satisfied: numpy in /usr/local/lib/python3.10/dist-packages (from biosppy) (1.26.4)\n",
            "Requirement already satisfied: scikit-learn in /usr/local/lib/python3.10/dist-packages (from biosppy) (1.6.0)\n",
            "Requirement already satisfied: scipy in /usr/local/lib/python3.10/dist-packages (from biosppy) (1.13.1)\n",
            "Requirement already satisfied: shortuuid in /usr/local/lib/python3.10/dist-packages (from biosppy) (1.0.13)\n",
            "Requirement already satisfied: six in /usr/local/lib/python3.10/dist-packages (from biosppy) (1.17.0)\n",
            "Requirement already satisfied: joblib in /usr/local/lib/python3.10/dist-packages (from biosppy) (1.4.2)\n",
            "Requirement already satisfied: opencv-python in /usr/local/lib/python3.10/dist-packages (from biosppy) (4.10.0.84)\n",
            "Requirement already satisfied: pywavelets in /usr/local/lib/python3.10/dist-packages (from biosppy) (1.8.0)\n",
            "Requirement already satisfied: mock in /usr/local/lib/python3.10/dist-packages (from biosppy) (5.1.0)\n",
            "Requirement already satisfied: contourpy>=1.0.1 in /usr/local/lib/python3.10/dist-packages (from matplotlib->biosppy) (1.3.1)\n",
            "Requirement already satisfied: cycler>=0.10 in /usr/local/lib/python3.10/dist-packages (from matplotlib->biosppy) (0.12.1)\n",
            "Requirement already satisfied: fonttools>=4.22.0 in /usr/local/lib/python3.10/dist-packages (from matplotlib->biosppy) (4.55.3)\n",
            "Requirement already satisfied: kiwisolver>=1.0.1 in /usr/local/lib/python3.10/dist-packages (from matplotlib->biosppy) (1.4.7)\n",
            "Requirement already satisfied: packaging>=20.0 in /usr/local/lib/python3.10/dist-packages (from matplotlib->biosppy) (24.2)\n",
            "Requirement already satisfied: pillow>=6.2.0 in /usr/local/lib/python3.10/dist-packages (from matplotlib->biosppy) (11.0.0)\n",
            "Requirement already satisfied: pyparsing>=2.3.1 in /usr/local/lib/python3.10/dist-packages (from matplotlib->biosppy) (3.2.0)\n",
            "Requirement already satisfied: python-dateutil>=2.7 in /usr/local/lib/python3.10/dist-packages (from matplotlib->biosppy) (2.8.2)\n",
            "Requirement already satisfied: threadpoolctl>=3.1.0 in /usr/local/lib/python3.10/dist-packages (from scikit-learn->biosppy) (3.5.0)\n",
            "Requirement already satisfied: tensorflow==2.10.0 in /usr/local/lib/python3.10/dist-packages (2.10.0)\n",
            "Requirement already satisfied: absl-py>=1.0.0 in /usr/local/lib/python3.10/dist-packages (from tensorflow==2.10.0) (1.4.0)\n",
            "Requirement already satisfied: astunparse>=1.6.0 in /usr/local/lib/python3.10/dist-packages (from tensorflow==2.10.0) (1.6.3)\n",
            "Requirement already satisfied: flatbuffers>=2.0 in /usr/local/lib/python3.10/dist-packages (from tensorflow==2.10.0) (24.3.25)\n",
            "Requirement already satisfied: gast<=0.4.0,>=0.2.1 in /usr/local/lib/python3.10/dist-packages (from tensorflow==2.10.0) (0.4.0)\n",
            "Requirement already satisfied: google-pasta>=0.1.1 in /usr/local/lib/python3.10/dist-packages (from tensorflow==2.10.0) (0.2.0)\n",
            "Requirement already satisfied: grpcio<2.0,>=1.24.3 in /usr/local/lib/python3.10/dist-packages (from tensorflow==2.10.0) (1.68.1)\n",
            "Requirement already satisfied: h5py>=2.9.0 in /usr/local/lib/python3.10/dist-packages (from tensorflow==2.10.0) (3.12.1)\n",
            "Requirement already satisfied: keras<2.11,>=2.10.0 in /usr/local/lib/python3.10/dist-packages (from tensorflow==2.10.0) (2.10.0)\n",
            "Requirement already satisfied: keras-preprocessing>=1.1.1 in /usr/local/lib/python3.10/dist-packages (from tensorflow==2.10.0) (1.1.2)\n",
            "Requirement already satisfied: libclang>=13.0.0 in /usr/local/lib/python3.10/dist-packages (from tensorflow==2.10.0) (18.1.1)\n",
            "Requirement already satisfied: numpy>=1.20 in /usr/local/lib/python3.10/dist-packages (from tensorflow==2.10.0) (1.26.4)\n",
            "Requirement already satisfied: opt-einsum>=2.3.2 in /usr/local/lib/python3.10/dist-packages (from tensorflow==2.10.0) (3.4.0)\n",
            "Requirement already satisfied: packaging in /usr/local/lib/python3.10/dist-packages (from tensorflow==2.10.0) (24.2)\n",
            "Requirement already satisfied: protobuf<3.20,>=3.9.2 in /usr/local/lib/python3.10/dist-packages (from tensorflow==2.10.0) (3.19.6)\n",
            "Requirement already satisfied: setuptools in /usr/local/lib/python3.10/dist-packages (from tensorflow==2.10.0) (75.1.0)\n",
            "Requirement already satisfied: six>=1.12.0 in /usr/local/lib/python3.10/dist-packages (from tensorflow==2.10.0) (1.17.0)\n",
            "Requirement already satisfied: tensorboard<2.11,>=2.10 in /usr/local/lib/python3.10/dist-packages (from tensorflow==2.10.0) (2.10.1)\n",
            "Requirement already satisfied: tensorflow-io-gcs-filesystem>=0.23.1 in /usr/local/lib/python3.10/dist-packages (from tensorflow==2.10.0) (0.37.1)\n",
            "Requirement already satisfied: tensorflow-estimator<2.11,>=2.10.0 in /usr/local/lib/python3.10/dist-packages (from tensorflow==2.10.0) (2.10.0)\n",
            "Requirement already satisfied: termcolor>=1.1.0 in /usr/local/lib/python3.10/dist-packages (from tensorflow==2.10.0) (2.5.0)\n",
            "Requirement already satisfied: typing-extensions>=3.6.6 in /usr/local/lib/python3.10/dist-packages (from tensorflow==2.10.0) (4.12.2)\n",
            "Requirement already satisfied: wrapt>=1.11.0 in /usr/local/lib/python3.10/dist-packages (from tensorflow==2.10.0) (1.17.0)\n",
            "Requirement already satisfied: wheel<1.0,>=0.23.0 in /usr/local/lib/python3.10/dist-packages (from astunparse>=1.6.0->tensorflow==2.10.0) (0.45.1)\n",
            "Requirement already satisfied: google-auth<3,>=1.6.3 in /usr/local/lib/python3.10/dist-packages (from tensorboard<2.11,>=2.10->tensorflow==2.10.0) (2.27.0)\n",
            "Requirement already satisfied: google-auth-oauthlib<0.5,>=0.4.1 in /usr/local/lib/python3.10/dist-packages (from tensorboard<2.11,>=2.10->tensorflow==2.10.0) (0.4.6)\n",
            "Requirement already satisfied: markdown>=2.6.8 in /usr/local/lib/python3.10/dist-packages (from tensorboard<2.11,>=2.10->tensorflow==2.10.0) (3.7)\n",
            "Requirement already satisfied: requests<3,>=2.21.0 in /usr/local/lib/python3.10/dist-packages (from tensorboard<2.11,>=2.10->tensorflow==2.10.0) (2.32.3)\n",
            "Requirement already satisfied: tensorboard-data-server<0.7.0,>=0.6.0 in /usr/local/lib/python3.10/dist-packages (from tensorboard<2.11,>=2.10->tensorflow==2.10.0) (0.6.1)\n",
            "Requirement already satisfied: tensorboard-plugin-wit>=1.6.0 in /usr/local/lib/python3.10/dist-packages (from tensorboard<2.11,>=2.10->tensorflow==2.10.0) (1.8.1)\n",
            "Requirement already satisfied: werkzeug>=1.0.1 in /usr/local/lib/python3.10/dist-packages (from tensorboard<2.11,>=2.10->tensorflow==2.10.0) (3.1.3)\n",
            "Requirement already satisfied: cachetools<6.0,>=2.0.0 in /usr/local/lib/python3.10/dist-packages (from google-auth<3,>=1.6.3->tensorboard<2.11,>=2.10->tensorflow==2.10.0) (5.5.0)\n",
            "Requirement already satisfied: pyasn1-modules>=0.2.1 in /usr/local/lib/python3.10/dist-packages (from google-auth<3,>=1.6.3->tensorboard<2.11,>=2.10->tensorflow==2.10.0) (0.4.1)\n",
            "Requirement already satisfied: rsa<5,>=3.1.4 in /usr/local/lib/python3.10/dist-packages (from google-auth<3,>=1.6.3->tensorboard<2.11,>=2.10->tensorflow==2.10.0) (4.9)\n",
            "Requirement already satisfied: requests-oauthlib>=0.7.0 in /usr/local/lib/python3.10/dist-packages (from google-auth-oauthlib<0.5,>=0.4.1->tensorboard<2.11,>=2.10->tensorflow==2.10.0) (1.3.1)\n",
            "Requirement already satisfied: charset-normalizer<4,>=2 in /usr/local/lib/python3.10/dist-packages (from requests<3,>=2.21.0->tensorboard<2.11,>=2.10->tensorflow==2.10.0) (3.4.0)\n",
            "Requirement already satisfied: idna<4,>=2.5 in /usr/local/lib/python3.10/dist-packages (from requests<3,>=2.21.0->tensorboard<2.11,>=2.10->tensorflow==2.10.0) (3.10)\n",
            "Requirement already satisfied: urllib3<3,>=1.21.1 in /usr/local/lib/python3.10/dist-packages (from requests<3,>=2.21.0->tensorboard<2.11,>=2.10->tensorflow==2.10.0) (2.2.3)\n",
            "Requirement already satisfied: certifi>=2017.4.17 in /usr/local/lib/python3.10/dist-packages (from requests<3,>=2.21.0->tensorboard<2.11,>=2.10->tensorflow==2.10.0) (2024.12.14)\n",
            "Requirement already satisfied: MarkupSafe>=2.1.1 in /usr/local/lib/python3.10/dist-packages (from werkzeug>=1.0.1->tensorboard<2.11,>=2.10->tensorflow==2.10.0) (3.0.2)\n",
            "Requirement already satisfied: pyasn1<0.7.0,>=0.4.6 in /usr/local/lib/python3.10/dist-packages (from pyasn1-modules>=0.2.1->google-auth<3,>=1.6.3->tensorboard<2.11,>=2.10->tensorflow==2.10.0) (0.6.1)\n",
            "Requirement already satisfied: oauthlib>=3.0.0 in /usr/local/lib/python3.10/dist-packages (from requests-oauthlib>=0.7.0->google-auth-oauthlib<0.5,>=0.4.1->tensorboard<2.11,>=2.10->tensorflow==2.10.0) (3.2.2)\n"
          ]
        }
      ],
      "source": [
        "!pip install neurokit2\n",
        "!pip install biosppy\n",
        "!pip install tensorflow==2.10.0"
      ]
    },
    {
      "cell_type": "code",
      "execution_count": 2,
      "metadata": {
        "id": "3fRIREVASyAt"
      },
      "outputs": [],
      "source": [
        "%matplotlib inline\n",
        "\n",
        "# Basic Imports\n",
        "import os\n",
        "import sys\n",
        "import numpy as np\n",
        "import matplotlib.pyplot as plt\n",
        "import datetime\n",
        "import math\n",
        "from math import floor\n",
        "import scipy as scipy\n",
        "import librosa as lbr\n",
        "import neurokit2 as nk\n",
        "import pandas as pd\n",
        "import plotly.express as px\n",
        "import itertools\n",
        "import graphviz\n",
        "import xgboost as xgb\n",
        "import gc\n",
        "\n",
        "# Scikit-Learn and Scipy Modules\n",
        "import seaborn as sns\n",
        "import sklearn.decomposition\n",
        "pca = sklearn.decomposition.PCA()\n",
        "from sklearn.model_selection import train_test_split\n",
        "from sklearn.metrics import confusion_matrix, accuracy_score,f1_score,ConfusionMatrixDisplay\n",
        "from sklearn.utils.class_weight import compute_class_weight\n",
        "from sklearn.metrics import classification_report, mean_squared_error\n",
        "from sklearn.decomposition import PCA\n",
        "from sklearn.manifold import TSNE\n",
        "from sklearn.preprocessing import StandardScaler\n",
        "from sklearn import svm\n",
        "from sklearn.inspection import permutation_importance\n",
        "from sklearn.neighbors import KNeighborsClassifier, KNeighborsRegressor\n",
        "from sklearn.feature_selection import RFECV, RFE\n",
        "from sklearn.metrics import roc_curve, auc, cohen_kappa_score\n",
        "from sklearn import tree\n",
        "from sklearn.ensemble import RandomForestClassifier, RandomForestRegressor,GradientBoostingRegressor,VotingRegressor\n",
        "from sklearn.feature_selection import SelectKBest\n",
        "from sklearn.feature_selection import f_classif, mutual_info_classif, chi2\n",
        "from sklearn.feature_selection import VarianceThreshold\n",
        "from sklearn.feature_selection import SequentialFeatureSelector\n",
        "from sklearn.linear_model import LinearRegression\n",
        "from functools import reduce\n",
        "\n",
        "\n",
        "from scipy.signal import savgol_filter,iirnotch,lfilter,butter,savgol_coeffs,freqz,find_peaks,resample,welch,periodogram,resample_poly,decimate\n",
        "from scipy import signal\n",
        "from scipy.stats import linregress, pearsonr, chisquare, chi2\n",
        "from scipy.signal import firwin, kaiser_atten, kaiser_beta, lfilter,detrend\n",
        "\n",
        "# Tensorflow\n",
        "import tensorflow as tf\n",
        "from tensorflow import keras\n",
        "from tensorflow.keras import layers\n",
        "from tensorflow.keras import datasets, layers, models, optimizers, regularizers\n",
        "from tensorflow.keras.callbacks import ModelCheckpoint\n",
        "from tensorflow.keras.models import Sequential\n",
        "from tensorflow.keras.layers import Dense,GRU,LSTM,Conv2D,Conv1D,Bidirectional,Reshape\n",
        "from keras import backend as K\n",
        "\n",
        "# ECG Modules\n",
        "import biosppy\n",
        "\n",
        "sns.set(font_scale=1.3)\n",
        "sns.set_style(\"white\")"
      ]
    },
    {
      "cell_type": "code",
      "source": [
        "print(tf.__version__)"
      ],
      "metadata": {
        "colab": {
          "base_uri": "https://localhost:8080/"
        },
        "id": "pXeJjts894wH",
        "outputId": "0b35584e-051f-4ad0-ef3c-48ec7dff5e07"
      },
      "execution_count": 3,
      "outputs": [
        {
          "output_type": "stream",
          "name": "stdout",
          "text": [
            "2.10.0\n"
          ]
        }
      ]
    },
    {
      "cell_type": "code",
      "execution_count": 4,
      "metadata": {
        "colab": {
          "base_uri": "https://localhost:8080/"
        },
        "id": "5f_zmRAqTXuh",
        "outputId": "3eff6d14-a51e-4033-c891-2dd9bcc2d9a4"
      },
      "outputs": [
        {
          "output_type": "stream",
          "name": "stdout",
          "text": [
            "Mounted at /content/drive\n"
          ]
        }
      ],
      "source": [
        "# Mount Google Drive\n",
        "from google.colab import drive\n",
        "#drive.mount('/content/drive')\n",
        "drive.mount(\"/content/drive\", force_remount=True)"
      ]
    },
    {
      "cell_type": "code",
      "execution_count": 5,
      "metadata": {
        "id": "cj8Sfn6YTgKm"
      },
      "outputs": [],
      "source": [
        "# Set Google Drive Path\n",
        "libpath = '/content/drive/My Drive/HeartFEV1 Project/Signal Processing and Machine Learning Code/'\n",
        "\n",
        "# Import Custom Helper Modules\n",
        "sys.path.append(libpath+'libs/')\n",
        "\n",
        "from SQIs import apply_sqi,apply_gen_sqi\n",
        "from pre_processing import data_normalize, up_sampling_data\n",
        "from generate_dataset import get_dataset_PaperTubes,get_dataset_Matlab\n",
        "from feature_extractor import get_hand_features\n",
        "from utilities import get_per_subject_data, edr_neurokit"
      ]
    },
    {
      "cell_type": "code",
      "execution_count": 6,
      "metadata": {
        "id": "0rtH3ZuDYo1c"
      },
      "outputs": [],
      "source": [
        "# Useful directories\n",
        "datapath_dir = '/content/drive/My Drive/HeartFEV1 Project/Data/DHMC_Data/dataset/'\n",
        "saved_models = '/content/drive/My Drive/HeartFEV1 Project/Signal Processing and Machine Learning Code/saved_models/'"
      ]
    },
    {
      "cell_type": "code",
      "execution_count": 7,
      "metadata": {
        "id": "-lGunEjqY-Ql"
      },
      "outputs": [],
      "source": [
        "# Initialize Variables\n",
        "Fs_ppg = 54\n",
        "Fs_resp = 20\n",
        "Fs_ecg = 300\n",
        "Fs_ppg_up = 60\n",
        "\n",
        "# Trained model to generate pulse wave from peaks and valleys\n",
        "model_classifier_ecg_board = tf.keras.models.load_model(saved_models+'221030_210932.h5',compile=False)"
      ]
    },
    {
      "cell_type": "code",
      "execution_count": 8,
      "metadata": {
        "id": "mingli5JALDi"
      },
      "outputs": [],
      "source": [
        "def data_preprocess_new(ECG_data,RESP_data,PPG_data,fev1_in,fvc_in,bmi_in,subjects_in,fs_resp,fs_ecg,PPG_input=False):\n",
        "  # Normalize and up-sample PPG\n",
        "  PPG_data_bw_90 = up_sampling_data(PPG_data.reshape(PPG_data.shape[0],PPG_data.shape[1],1),RESP_data.shape[1]*3)\n",
        "  PPG_in = data_normalize(PPG_data_bw_90)\n",
        "  RESP_in = data_normalize(RESP_data.reshape(RESP_data.shape[0],RESP_data.shape[1],1))\n",
        "  ECG_in = data_normalize(ECG_data.reshape(ECG_data.shape[0],ECG_data.shape[1],1))\n",
        "\n",
        "  # Apply SQI\n",
        "  bd_windows = apply_sqi(RESP_in,ECG_in,fs_resp,fs_ecg,PPG_input)\n",
        "  print(bd_windows)\n",
        "  # Remove bad data\n",
        "  ECG_dhmc = np.delete(ECG_in,bd_windows,0)\n",
        "  if PPG_input:\n",
        "    PPG_dhmc = np.delete(PPG_in,bd_windows,0)\n",
        "  else:\n",
        "    PPG_dhmc = PPG_in\n",
        "  RESP_dhmc = np.delete(RESP_in,bd_windows,0)\n",
        "  subjects_left_dhmc = np.delete(subjects_in,bd_windows,0)\n",
        "  fev1_dhmc = np.delete(fev1_in,bd_windows,0)\n",
        "  fvc_dhmc = np.delete(fvc_in,bd_windows,0)\n",
        "  bmi_dhmc = np.delete(bmi_in,bd_windows,0)\n",
        "  return ECG_dhmc,PPG_dhmc,RESP_dhmc,subjects_left_dhmc,fev1_dhmc,fvc_dhmc,bmi_dhmc"
      ]
    },
    {
      "cell_type": "code",
      "source": [
        "def data_preprocess(ECG_data,RESP_data,subjects_in,fs_resp,fs_ecg):\n",
        "  # Normalize data\n",
        "  RESP_in = data_normalize(RESP_data.reshape(RESP_data.shape[0],RESP_data.shape[1],1))\n",
        "  ECG_in = data_normalize(ECG_data.reshape(ECG_data.shape[0],ECG_data.shape[1],1))\n",
        "\n",
        "  # Apply SQI\n",
        "  bd_windows = apply_gen_sqi(RESP_in,ECG_in,fs_resp,fs_ecg)\n",
        "  bd_windows = [int(v) for v in bd_windows]\n",
        "  # Remove bad data\n",
        "  ECG_out = np.delete(ECG_in,bd_windows,0)\n",
        "  RESP_out = np.delete(RESP_in,bd_windows,0)\n",
        "  subjects_left = np.delete(subjects_in,bd_windows,0)\n",
        "  return ECG_out,RESP_out,subjects_left"
      ],
      "metadata": {
        "id": "rEIZQoaX3M6C"
      },
      "execution_count": 21,
      "outputs": []
    },
    {
      "cell_type": "code",
      "execution_count": 37,
      "metadata": {
        "id": "34UD1UnDWsK5"
      },
      "outputs": [],
      "source": [
        "def summarize_features(x_test_feat,y_test_fev1,y_test_fvc,y_test_bmi,y_test_subjects):\n",
        "  feature_names = ['IER_med','RR_med','TA_med','S_med','SE_med','DFA_med','IRA_med','ERA_med', 'EA1_med',\n",
        "          'IER_rms','RR_rms','TA_rms','S_rms','SE_rms','DFA_rms','IRA_rms','ERA_rms', 'EA1_rms',\n",
        "          'IER_var','RR_var','TA_var','S_var','SE_var','DFA_var','IRA_var','ERA_var', 'EA1_var']\n",
        "  x_test_feat_new_med,y_test_fev1_new,y_test_fvc_new, y_test_bmi_new, y_test_subjects_new = get_per_subject_data(x_test_feat,y_test_fev1,y_test_fvc,y_test_bmi,y_test_subjects)\n",
        "  x_test_feat_new_rms,_,_,_,_ = get_per_subject_data(x_test_feat,y_test_fev1,y_test_fvc,y_test_bmi,y_test_subjects,'RMS')\n",
        "  x_test_feat_new_var,_,_,_,_ = get_per_subject_data(x_test_feat,y_test_fev1,y_test_fvc,y_test_bmi,y_test_subjects,'var')\n",
        "  x_test_feat_new = np.concatenate((x_test_feat_new_med,x_test_feat_new_rms,x_test_feat_new_var),axis=1)\n",
        "  return x_test_feat_new,y_test_fev1_new,y_test_fvc_new,y_test_bmi_new,y_test_subjects_new,feature_names\n"
      ]
    },
    {
      "cell_type": "code",
      "execution_count": 11,
      "metadata": {
        "id": "iSFMdFlqY353"
      },
      "outputs": [],
      "source": [
        "# Compute correlation\n",
        "def fev1_fvc_correlation(features_in,fev1_vals,fvc_vals):\n",
        "  data_in = np.concatenate((fev1_vals.reshape(fev1_vals.shape[0],1),features_in),axis=1)\n",
        "  y_d_dhmc_fev1 = pd.DataFrame(data_in, columns=['FEV1']+cols_N)\n",
        "  data_in = np.concatenate((fvc_vals.reshape(fvc_vals.shape[0],1),features_in),axis=1)\n",
        "  y_d_dhmc_fvc = pd.DataFrame(data_in, columns=['FVC']+cols_N)\n",
        "  y_d_fev1 = pd.concat([abs(y_d_dhmc_fev1.corr().iloc[0,1:]),abs(y_d_dhmc_fvc.corr().iloc[0,1:])],axis=1,keys=['FEV1','FVC'])\n",
        "  y_d_fev1.plot.bar(figsize=[10,4],ylim=[0,1.0])\n",
        "  plt.ylabel('abs(r)')\n",
        "  plt.xlabel('Respiratory Features')\n",
        "  plt.title('Correlation between FEV1,FVC and respiratory features')\n",
        "  plt.grid()\n",
        "  plt.show()\n",
        "  return"
      ]
    },
    {
      "cell_type": "code",
      "execution_count": 12,
      "metadata": {
        "id": "dFNF6BcMa8CM"
      },
      "outputs": [],
      "source": [
        "# Select 7 best features\n",
        "def select_n_best_features(features_in,lung_func_param,subjects_in,num_feats=6):\n",
        "  start_update = 0\n",
        "  idxs_gd=[]\n",
        "  while start_update <= num_feats:\n",
        "    best_r2 = 0.0\n",
        "    best_feat = []\n",
        "    for idxs_in in [x for x in range(features_in.shape[1]) if x not in idxs_gd]:\n",
        "      idxs = [idxs_in]\n",
        "      x_test_feat_new_idx = features_in[:,idxs]\n",
        "      unique_test_subjs = np.unique(subjects_in)\n",
        "      y_predicted = np.zeros_like(lung_func_param)\n",
        "      y_true =  lung_func_param\n",
        "\n",
        "      # Perform Manual Leave-One Out\n",
        "      for m in range(len(unique_test_subjs)):\n",
        "        test_subj = unique_test_subjs[m]\n",
        "        # print('m = ',m+1,' of ',len(unique_test_subjs),', subj = ',test_subj)\n",
        "        idx_test_subj = np.argwhere(subjects_in==test_subj)[:,0]\n",
        "        idx_nottest_subj = np.argwhere(subjects_in!=test_subj)[:,0]\n",
        "        x_train = x_test_feat_new_idx[idx_nottest_subj]\n",
        "        x_test = x_test_feat_new_idx[idx_test_subj]\n",
        "        y_train_model = lung_func_param[idx_nottest_subj]\n",
        "        y_test_model = lung_func_param[idx_test_subj]\n",
        "        scaler = StandardScaler().fit(x_train)\n",
        "        x_train_norm = scaler.transform(x_train)\n",
        "        x_test_norm = scaler.transform(x_test)\n",
        "        model = tree.DecisionTreeRegressor(random_state=3)\n",
        "        model.fit(x_train_norm, y_train_model)\n",
        "        y_predicted[idx_test_subj] = model.predict(x_test_norm)\n",
        "\n",
        "      slope_rr, intercept_rr, r_rr, p_val_r, se_rr = linregress(y_true,y_predicted)\n",
        "      r_sq_rr = r_rr**2\n",
        "      # Percent error\n",
        "      percent_error = np.mean(100*abs((y_predicted-y_true)/y_true))\n",
        "      if r_rr > best_r2:\n",
        "        best_r2 = r_rr\n",
        "        best_feat = idxs\n",
        "\n",
        "    idxs_gd = idxs_gd + best_feat\n",
        "    start_update += 1\n",
        "  return idxs_gd"
      ]
    },
    {
      "cell_type": "code",
      "execution_count": 13,
      "metadata": {
        "id": "Mc3anaAOcO6d"
      },
      "outputs": [],
      "source": [
        "# Select best feature combination\n",
        "def select_best_combination(features_in,lung_func_param,subjects_in,idxs_gd):\n",
        "  best_r2 = 0.0\n",
        "  best_feat = []\n",
        "  for z in range(2,len(idxs_gd)):\n",
        "    perm_r = itertools.combinations(idxs_gd, z)\n",
        "    v_l = list(perm_r)\n",
        "    for w in range(len(v_l)):\n",
        "      idxs = v_l[w]\n",
        "      x_test_feat_new_idx = features_in[:,idxs]\n",
        "      unique_test_subjs = np.unique(subjects_in)\n",
        "      y_predicted = np.zeros_like(lung_func_param)\n",
        "      y_true =  lung_func_param\n",
        "\n",
        "      # Perform Manual Leave-One Out\n",
        "      for m in range(len(unique_test_subjs)):\n",
        "        test_subj = unique_test_subjs[m]\n",
        "        # print('m = ',m+1,' of ',len(unique_test_subjs),', subj = ',test_subj)\n",
        "        idx_test_subj = np.argwhere(subjects_in==test_subj)[:,0]\n",
        "        idx_nottest_subj = np.argwhere(subjects_in!=test_subj)[:,0]\n",
        "        x_train = x_test_feat_new_idx[idx_nottest_subj]\n",
        "        x_test = x_test_feat_new_idx[idx_test_subj]\n",
        "        y_train_model = lung_func_param[idx_nottest_subj]\n",
        "        y_test_model = lung_func_param[idx_test_subj]\n",
        "        scaler = StandardScaler().fit(x_train)\n",
        "        x_train_norm = scaler.transform(x_train)\n",
        "        x_test_norm = scaler.transform(x_test)\n",
        "        model = tree.DecisionTreeRegressor(random_state=3)\n",
        "        model.fit(x_train_norm, y_train_model)\n",
        "        y_predicted[idx_test_subj] = model.predict(x_test_norm)\n",
        "\n",
        "      slope_rr, intercept_rr, r_rr, p_val_r, se_rr = linregress(y_true,y_predicted)\n",
        "      r_sq_rr = r_rr**2\n",
        "      # Percent error\n",
        "      percent_error = np.mean(100*abs((y_predicted-y_true)/y_true))\n",
        "      if r_rr > best_r2:\n",
        "        best_r2 = r_rr\n",
        "        best_feat = idxs\n",
        "  return best_feat"
      ]
    },
    {
      "cell_type": "code",
      "execution_count": 14,
      "metadata": {
        "id": "Gv3sQQFTd6iV"
      },
      "outputs": [],
      "source": [
        "def feature_selection(features_in,lung_func_param,subjects_in):\n",
        "  n_features = select_n_best_features(features_in,lung_func_param,subjects_in)\n",
        "  features_selected = select_best_combination(features_in,lung_func_param,subjects_in,n_features)\n",
        "  return features_selected"
      ]
    },
    {
      "cell_type": "code",
      "execution_count": 15,
      "metadata": {
        "id": "rdpy2J4wih1M"
      },
      "outputs": [],
      "source": [
        "def model_train_eval(features_in,lung_func_param,subjects_in,selected_feats):\n",
        "  x_test_feat_new_idx = features_in[:,selected_feats]\n",
        "  unique_test_subjs = np.unique(subjects_in)\n",
        "  y_predicted = np.zeros_like(lung_func_param)\n",
        "  y_true =  lung_func_param\n",
        "  feat_importances = np.zeros((len(unique_test_subjs),x_test_feat_new_idx.shape[1]))\n",
        "  # Perform Manual Leave-One Out\n",
        "  for m in range(len(unique_test_subjs)):\n",
        "    test_subj = unique_test_subjs[m]\n",
        "    #print('m = ',m+1,' of ',len(unique_test_subjs),', subj = ',test_subj)\n",
        "    idx_test_subj = np.argwhere(subjects_in==test_subj)[:,0]\n",
        "    idx_nottest_subj = np.argwhere(subjects_in!=test_subj)[:,0]\n",
        "    x_train = x_test_feat_new_idx[idx_nottest_subj]\n",
        "    x_test = x_test_feat_new_idx[idx_test_subj]\n",
        "    y_train_model = lung_func_param[idx_nottest_subj]\n",
        "    y_test_model = lung_func_param[idx_test_subj]\n",
        "    scaler = StandardScaler().fit(x_train)\n",
        "    x_train_norm = scaler.transform(x_train)\n",
        "    x_test_norm = scaler.transform(x_test)\n",
        "    model = tree.DecisionTreeRegressor(random_state=3)\n",
        "    model.fit(x_train_norm, y_train_model)\n",
        "    y_predicted[idx_test_subj] = model.predict(x_test_norm)\n",
        "    feat_importances[m,:] = model.feature_importances_\n",
        "  return y_true,y_predicted,feat_importances"
      ]
    },
    {
      "cell_type": "code",
      "execution_count": 16,
      "metadata": {
        "id": "dep65crnmZwK"
      },
      "outputs": [],
      "source": [
        "# Performance Metrics\n",
        "def performance_visualize(y_true,y_pred,feat_importances,selected_feats,feature_names,feat):\n",
        "  # Feature Importance\n",
        "  feat_avg = np.mean(feat_importances,axis=0,keepdims=True)\n",
        "  feat_import = np.concatenate((feat_importances,feat_avg),axis=0)\n",
        "  df_feat_import = pd.DataFrame(np.round(feat_import,2), columns=[feature_names[m] for m in selected_feats])\n",
        "  ax = df_feat_import.iloc[15].plot.bar(figsize=[4,4],ylim=[0,1.0])\n",
        "  for container in ax.containers:\n",
        "      ax.bar_label(container)\n",
        "  plt.grid('on')\n",
        "  plt.title(feat)\n",
        "  plt.ylabel('Feature Importance')\n",
        "  plt.xlabel('Selected Feature Combination')\n",
        "  plt.show()\n",
        "  # Prediction Performance\n",
        "  slope_rr, intercept_rr, r_rr, p_val_r, se_rr = linregress(y_true,y_pred)\n",
        "  r_sq_rr = r_rr**2\n",
        "  # Percent error\n",
        "  percent_error = np.mean(100*abs((y_pred-y_true)/y_true))\n",
        "  print('Percentage error = ',np.round(percent_error,2),'%')\n",
        "  plt.plot(y_true,y_pred,'*')\n",
        "  plt.xlabel('True '+feat)\n",
        "  plt.ylabel('Predicted '+feat)\n",
        "  plt.title('r = '+str(np.round(r_rr,2))+', R^2 = '+str(np.round(r_sq_rr,2))+', mape = '+str(np.round(percent_error,2))+'%')\n",
        "  plt.show()\n",
        "  return"
      ]
    },
    {
      "cell_type": "markdown",
      "metadata": {
        "id": "Uy8Eu0mfYHn0"
      },
      "source": [
        "# Load Simple Dataset"
      ]
    },
    {
      "cell_type": "code",
      "execution_count": 17,
      "metadata": {
        "id": "LRVSAoNGhEqh"
      },
      "outputs": [],
      "source": [
        "ECG_data,RESP_data,PPG_data,subjects_sim,no_tube,open_tube,one_hole,five_hole = get_dataset_PaperTubes()"
      ]
    },
    {
      "cell_type": "code",
      "execution_count": 22,
      "metadata": {
        "id": "Wp9kAxvJpwc7",
        "colab": {
          "base_uri": "https://localhost:8080/"
        },
        "outputId": "75d367da-0394-4ac3-89da-9afd45159caa"
      },
      "outputs": [
        {
          "output_type": "stream",
          "name": "stdout",
          "text": [
            "(15, 27000, 1) (15, 1800, 1) (15,)\n"
          ]
        }
      ],
      "source": [
        "# Pre-process data\n",
        "ECG_tube,RESP_tube,subjects_left_tube = data_preprocess(ECG_data,RESP_data,subjects_sim,Fs_resp,Fs_ecg)\n",
        "print(ECG_tube.shape,RESP_tube.shape,subjects_left_tube.shape)"
      ]
    },
    {
      "cell_type": "markdown",
      "metadata": {
        "id": "6Ulcwa6U_5cK"
      },
      "source": [
        "# Extract EDR Signal"
      ]
    },
    {
      "cell_type": "code",
      "execution_count": 23,
      "metadata": {
        "id": "ZO_wuQ7cn1GE",
        "colab": {
          "base_uri": "https://localhost:8080/"
        },
        "outputId": "7808017f-ddf6-40b7-fcde-2c1d78c6b3b3"
      },
      "outputs": [
        {
          "output_type": "stream",
          "name": "stdout",
          "text": [
            "1/1 [==============================] - 4s 4s/step\n"
          ]
        }
      ],
      "source": [
        "# Extract EDR signals\n",
        "# EDR Model\n",
        "x_input = layers.Input(shape=(None,1),name='inputs')\n",
        "# CNN Layers\n",
        "cnn1 = layers.Conv1D(8,5,padding='same',strides=3,activation='relu')(x_input)\n",
        "cnn2 = layers.Conv1D(4,7,padding='same',strides=5,activation='relu')(cnn1)\n",
        "# GRU Layer\n",
        "clss_1 = layers.Bidirectional(layers.GRU(16,activation='tanh', recurrent_activation='sigmoid',return_sequences=True))(cnn2)\n",
        "clss_2 = layers.Bidirectional(layers.GRU(8,activation='tanh', recurrent_activation='sigmoid',return_sequences=True))(clss_1)\n",
        "# Linear regression\n",
        "dense_reg = layers.Dense(2, activation='swish')(clss_2)\n",
        "reg_pred = layers.Dense(1, activation='linear',name='regression')(dense_reg)\n",
        "# Instantiate an end-to-end model predicting\n",
        "model = keras.Model(inputs=[x_input], outputs=[reg_pred])\n",
        "adam = tf.keras.optimizers.RMSprop(learning_rate=0.01)\n",
        "model.compile(optimizer=adam, loss={'regression':'mse'})\n",
        "model.load_weights(saved_models+'worst_case_240207_200203.hdf5') #\n",
        "model.compile(optimizer=adam, loss={'regression':'mse'})\n",
        "EDR_in = model.predict({'inputs':data_normalize(ECG_tube)})\n",
        "EDR_tube = data_normalize(EDR_in)"
      ]
    },
    {
      "cell_type": "code",
      "source": [
        "plt.figure()\n",
        "plt.plot(EDR_tube[0,:,0],label='EDR')\n",
        "plt.plot(RESP_tube[0,:,0],label='Resp')\n",
        "plt.legend()\n",
        "plt.show()"
      ],
      "metadata": {
        "colab": {
          "base_uri": "https://localhost:8080/",
          "height": 456
        },
        "id": "AMkUGD9Z5SCE",
        "outputId": "68aa9d87-cd7c-4fb0-b9c3-b8ba297cec55"
      },
      "execution_count": 24,
      "outputs": [
        {
          "output_type": "execute_result",
          "data": {
            "text/plain": [
              "<matplotlib.legend.Legend at 0x7d61c0f760b0>"
            ]
          },
          "metadata": {},
          "execution_count": 24
        },
        {
          "output_type": "display_data",
          "data": {
            "text/plain": [
              "<Figure size 640x480 with 1 Axes>"
            ],
            "image/png": "[encoded data removed]"
          },
          "metadata": {}
        }
      ]
    },
    {
      "cell_type": "markdown",
      "metadata": {
        "id": "BjU-vn5CnJLD"
      },
      "source": [
        "# ECG-Derived Respiratory Signal"
      ]
    },
    {
      "cell_type": "code",
      "execution_count": 34,
      "metadata": {
        "colab": {
          "base_uri": "https://localhost:8080/"
        },
        "id": "Fiaubv7unJLP",
        "outputId": "91d363b3-23e1-4ab8-ce8d-c0f0e7b5232e"
      },
      "outputs": [
        {
          "output_type": "stream",
          "name": "stdout",
          "text": [
            "1/1 [==============================] - 0s 355ms/step\n"
          ]
        }
      ],
      "source": [
        "# Define Data\n",
        "########### change to real values#############\n",
        "fev1_tube = np.random.rand(EDR_tube.shape[0])\n",
        "fvc_tube = np.random.rand(EDR_tube.shape[0])\n",
        "bmi_tube = np.random.rand(EDR_tube.shape[0])\n",
        "\n",
        "x_test,y_test_fev1,y_test_fvc,y_test_bmi,y_test_subjects = EDR_tube,fev1_tube,fvc_tube,bmi_tube,subjects_left_tube\n",
        "sq_pr1 = model_classifier_ecg_board.predict(data_normalize(x_test))\n",
        "x_test_class = sq_pr1.round()"
      ]
    },
    {
      "cell_type": "code",
      "execution_count": 35,
      "metadata": {
        "id": "UGofzHHAnJLQ"
      },
      "outputs": [],
      "source": [
        "# Get hand engineered features\n",
        "x_test_handfeat = get_hand_features(x_test, x_test_class,y_test_bmi,Fs_resp)\n",
        "x_test_handfeat = np.nan_to_num(x_test_handfeat,nan=0,posinf=None,neginf=None)"
      ]
    },
    {
      "cell_type": "code",
      "source": [
        "# Summarization step - per subject\n",
        "x_test_feat_new,y_test_class_new,y_test_fvc_new,y_test_bmi_new,y_test_subjects_new,cols_N = summarize_features(x_test_handfeat,y_test_fev1,y_test_fvc,y_test_bmi,y_test_subjects)\n",
        "print(x_test_feat_new.shape,y_test_class_new.shape,y_test_fvc_new.shape,y_test_subjects_new.shape)"
      ],
      "metadata": {
        "colab": {
          "base_uri": "https://localhost:8080/"
        },
        "id": "AZ8wF3lo61qZ",
        "outputId": "445079fe-e5ea-401e-ffc7-aac11b6b3021"
      },
      "execution_count": 42,
      "outputs": [
        {
          "output_type": "stream",
          "name": "stdout",
          "text": [
            "(15, 27) (15,) (15,) (15,)\n"
          ]
        }
      ]
    },
    {
      "cell_type": "markdown",
      "metadata": {
        "id": "J1gkNfYAnJLR"
      },
      "source": [
        "## Model Selection"
      ]
    },
    {
      "cell_type": "code",
      "execution_count": 47,
      "metadata": {
        "colab": {
          "base_uri": "https://localhost:8080/"
        },
        "id": "euflldVgnJLR",
        "outputId": "f0f32db5-a593-47af-d8df-af2475cb4cd9"
      },
      "outputs": [
        {
          "output_type": "stream",
          "name": "stdout",
          "text": [
            "(1, 10) (5, 14)\n"
          ]
        }
      ],
      "source": [
        "fev1_features = feature_selection(x_test_feat_new,y_test_class_new,y_test_subjects_new)\n",
        "fvc_features = feature_selection(x_test_feat_new,y_test_fvc_new,y_test_subjects_new)\n",
        "print(fev1_features, fvc_features)"
      ]
    },
    {
      "cell_type": "code",
      "execution_count": 48,
      "metadata": {
        "id": "EuUap0B9nJLR",
        "colab": {
          "base_uri": "https://localhost:8080/"
        },
        "outputId": "bcebc306-7364-4150-feb7-aa18c19853b5"
      },
      "outputs": [
        {
          "output_type": "stream",
          "name": "stdout",
          "text": [
            "FEV1 Feature Combination: ['RR_med', 'RR_rms']\n",
            "FVC Feature Combination: ['DFA_med', 'DFA_rms']\n"
          ]
        }
      ],
      "source": [
        "print('FEV1 Feature Combination:', [cols_N[m] for m in fev1_features])\n",
        "print('FVC Feature Combination:', [cols_N[m] for m in fvc_features])"
      ]
    },
    {
      "cell_type": "markdown",
      "metadata": {
        "id": "fTZ8w64unJLR"
      },
      "source": [
        "## Model Training and LOSO Evaluation"
      ]
    },
    {
      "cell_type": "code",
      "execution_count": 49,
      "metadata": {
        "id": "xz__NhNfnJLS"
      },
      "outputs": [],
      "source": [
        "# FEV1 Performance\n",
        "y_true_fev1,y_predicted_fev1,feat_importances_fev1 = model_train_eval(x_test_feat_new,y_test_class_new,y_test_subjects_new,fev1_features)\n",
        "# FVC Performance\n",
        "y_true_fvc,y_predicted_fvc,feat_importances_fvc = model_train_eval(x_test_feat_new,y_test_fvc_new,y_test_subjects_new,fvc_features)"
      ]
    },
    {
      "cell_type": "code",
      "source": [],
      "metadata": {
        "id": "McBHmnnJAsXF"
      },
      "execution_count": 51,
      "outputs": []
    }
  ],
  "metadata": {
    "colab": {
      "provenance": [],
      "toc_visible": true
    },
    "kernelspec": {
      "display_name": "Python 3",
      "name": "python3"
    },
    "language_info": {
      "name": "python"
    }
  },
  "nbformat": 4,
  "nbformat_minor": 0
}